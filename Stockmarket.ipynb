{
 "cells": [
  {
   "cell_type": "code",
   "execution_count": 7,
   "id": "c5829528",
   "metadata": {},
   "outputs": [
    {
     "name": "stdout",
     "output_type": "stream",
     "text": [
      "Collecting pandas-datareader\n",
      "  Using cached pandas_datareader-0.10.0-py3-none-any.whl (109 kB)\n",
      "Requirement already satisfied: requests>=2.19.0 in c:\\users\\abhishek\\anaconda3\\envs\\tensorflow\\lib\\site-packages (from pandas-datareader) (2.27.1)\n",
      "Collecting lxml\n",
      "  Downloading lxml-4.9.3-cp39-cp39-win_amd64.whl (3.9 MB)\n",
      "Note: you may need to restart the kernel to use updated packages.\n",
      "Requirement already satisfied: pandas>=0.23 in c:\\users\\abhishek\\anaconda3\\envs\\tensorflow\\lib\\site-packages (from pandas-datareader) (1.4.1)\n",
      "Requirement already satisfied: pytz>=2020.1 in c:\\users\\abhishek\\anaconda3\\envs\\tensorflow\\lib\\site-packages (from pandas>=0.23->pandas-datareader) (2021.3)\n",
      "Requirement already satisfied: numpy>=1.18.5 in c:\\users\\abhishek\\anaconda3\\envs\\tensorflow\\lib\\site-packages (from pandas>=0.23->pandas-datareader) (1.21.5)\n",
      "Requirement already satisfied: python-dateutil>=2.8.1 in c:\\users\\abhishek\\anaconda3\\envs\\tensorflow\\lib\\site-packages (from pandas>=0.23->pandas-datareader) (2.8.2)\n",
      "Requirement already satisfied: six>=1.5 in c:\\users\\abhishek\\anaconda3\\envs\\tensorflow\\lib\\site-packages (from python-dateutil>=2.8.1->pandas>=0.23->pandas-datareader) (1.16.0)\n",
      "Requirement already satisfied: urllib3<1.27,>=1.21.1 in c:\\users\\abhishek\\anaconda3\\envs\\tensorflow\\lib\\site-packages (from requests>=2.19.0->pandas-datareader) (1.26.8)\n",
      "Requirement already satisfied: idna<4,>=2.5 in c:\\users\\abhishek\\anaconda3\\envs\\tensorflow\\lib\\site-packages (from requests>=2.19.0->pandas-datareader) (3.3)\n",
      "Requirement already satisfied: certifi>=2017.4.17 in c:\\users\\abhishek\\anaconda3\\envs\\tensorflow\\lib\\site-packages (from requests>=2.19.0->pandas-datareader) (2021.10.8)\n",
      "Requirement already satisfied: charset-normalizer~=2.0.0 in c:\\users\\abhishek\\anaconda3\\envs\\tensorflow\\lib\\site-packages (from requests>=2.19.0->pandas-datareader) (2.0.4)\n",
      "Installing collected packages: lxml, pandas-datareader\n",
      "Successfully installed lxml-4.9.3 pandas-datareader-0.10.0\n"
     ]
    }
   ],
   "source": [
    "pip install pandas-datareader"
   ]
  },
  {
   "cell_type": "code",
   "execution_count": 8,
   "id": "c7411925",
   "metadata": {},
   "outputs": [],
   "source": [
    "import pandas as pd\n",
    "import pandas_datareader as data"
   ]
  },
  {
   "cell_type": "code",
   "execution_count": 9,
   "id": "41a1e521",
   "metadata": {},
   "outputs": [],
   "source": [
    "import numpy as np\n",
    "import matplotlib.pyplot as plt\n"
   ]
  },
  {
   "cell_type": "code",
   "execution_count": 10,
   "id": "a2756286",
   "metadata": {},
   "outputs": [
    {
     "data": {
      "text/html": [
       "<div>\n",
       "<style scoped>\n",
       "    .dataframe tbody tr th:only-of-type {\n",
       "        vertical-align: middle;\n",
       "    }\n",
       "\n",
       "    .dataframe tbody tr th {\n",
       "        vertical-align: top;\n",
       "    }\n",
       "\n",
       "    .dataframe thead th {\n",
       "        text-align: right;\n",
       "    }\n",
       "</style>\n",
       "<table border=\"1\" class=\"dataframe\">\n",
       "  <thead>\n",
       "    <tr style=\"text-align: right;\">\n",
       "      <th></th>\n",
       "      <th>Date</th>\n",
       "      <th>Open</th>\n",
       "      <th>High</th>\n",
       "      <th>Low</th>\n",
       "      <th>Close</th>\n",
       "      <th>Adj Close</th>\n",
       "      <th>Volume</th>\n",
       "    </tr>\n",
       "  </thead>\n",
       "  <tbody>\n",
       "    <tr>\n",
       "      <th>0</th>\n",
       "      <td>2000-01-03</td>\n",
       "      <td>0.936384</td>\n",
       "      <td>1.004464</td>\n",
       "      <td>0.907924</td>\n",
       "      <td>0.999442</td>\n",
       "      <td>0.848323</td>\n",
       "      <td>535796800</td>\n",
       "    </tr>\n",
       "    <tr>\n",
       "      <th>1</th>\n",
       "      <td>2000-01-04</td>\n",
       "      <td>0.966518</td>\n",
       "      <td>0.987723</td>\n",
       "      <td>0.903460</td>\n",
       "      <td>0.915179</td>\n",
       "      <td>0.776801</td>\n",
       "      <td>512377600</td>\n",
       "    </tr>\n",
       "    <tr>\n",
       "      <th>2</th>\n",
       "      <td>2000-01-05</td>\n",
       "      <td>0.926339</td>\n",
       "      <td>0.987165</td>\n",
       "      <td>0.919643</td>\n",
       "      <td>0.928571</td>\n",
       "      <td>0.788168</td>\n",
       "      <td>778321600</td>\n",
       "    </tr>\n",
       "    <tr>\n",
       "      <th>3</th>\n",
       "      <td>2000-01-06</td>\n",
       "      <td>0.947545</td>\n",
       "      <td>0.955357</td>\n",
       "      <td>0.848214</td>\n",
       "      <td>0.848214</td>\n",
       "      <td>0.719961</td>\n",
       "      <td>767972800</td>\n",
       "    </tr>\n",
       "    <tr>\n",
       "      <th>4</th>\n",
       "      <td>2000-01-07</td>\n",
       "      <td>0.861607</td>\n",
       "      <td>0.901786</td>\n",
       "      <td>0.852679</td>\n",
       "      <td>0.888393</td>\n",
       "      <td>0.754065</td>\n",
       "      <td>460734400</td>\n",
       "    </tr>\n",
       "  </tbody>\n",
       "</table>\n",
       "</div>"
      ],
      "text/plain": [
       "         Date      Open      High       Low     Close  Adj Close     Volume\n",
       "0  2000-01-03  0.936384  1.004464  0.907924  0.999442   0.848323  535796800\n",
       "1  2000-01-04  0.966518  0.987723  0.903460  0.915179   0.776801  512377600\n",
       "2  2000-01-05  0.926339  0.987165  0.919643  0.928571   0.788168  778321600\n",
       "3  2000-01-06  0.947545  0.955357  0.848214  0.848214   0.719961  767972800\n",
       "4  2000-01-07  0.861607  0.901786  0.852679  0.888393   0.754065  460734400"
      ]
     },
     "execution_count": 10,
     "metadata": {},
     "output_type": "execute_result"
    }
   ],
   "source": [
    "df  = pd.read_csv(\"C:\\\\Users\\\\Abhishek\\\\Downloads\\\\AAPL (1).csv\")\n",
    "df.head()"
   ]
  },
  {
   "cell_type": "code",
   "execution_count": 11,
   "id": "e002aea1",
   "metadata": {},
   "outputs": [
    {
     "data": {
      "text/html": [
       "<div>\n",
       "<style scoped>\n",
       "    .dataframe tbody tr th:only-of-type {\n",
       "        vertical-align: middle;\n",
       "    }\n",
       "\n",
       "    .dataframe tbody tr th {\n",
       "        vertical-align: top;\n",
       "    }\n",
       "\n",
       "    .dataframe thead th {\n",
       "        text-align: right;\n",
       "    }\n",
       "</style>\n",
       "<table border=\"1\" class=\"dataframe\">\n",
       "  <thead>\n",
       "    <tr style=\"text-align: right;\">\n",
       "      <th></th>\n",
       "      <th>Date</th>\n",
       "      <th>Open</th>\n",
       "      <th>High</th>\n",
       "      <th>Low</th>\n",
       "      <th>Close</th>\n",
       "      <th>Adj Close</th>\n",
       "      <th>Volume</th>\n",
       "    </tr>\n",
       "  </thead>\n",
       "  <tbody>\n",
       "    <tr>\n",
       "      <th>5531</th>\n",
       "      <td>2021-12-27</td>\n",
       "      <td>177.089996</td>\n",
       "      <td>180.419998</td>\n",
       "      <td>177.070007</td>\n",
       "      <td>180.330002</td>\n",
       "      <td>178.527756</td>\n",
       "      <td>74919600</td>\n",
       "    </tr>\n",
       "    <tr>\n",
       "      <th>5532</th>\n",
       "      <td>2021-12-28</td>\n",
       "      <td>180.160004</td>\n",
       "      <td>181.330002</td>\n",
       "      <td>178.529999</td>\n",
       "      <td>179.289993</td>\n",
       "      <td>177.498138</td>\n",
       "      <td>79144300</td>\n",
       "    </tr>\n",
       "    <tr>\n",
       "      <th>5533</th>\n",
       "      <td>2021-12-29</td>\n",
       "      <td>179.330002</td>\n",
       "      <td>180.630005</td>\n",
       "      <td>178.139999</td>\n",
       "      <td>179.380005</td>\n",
       "      <td>177.587250</td>\n",
       "      <td>62348900</td>\n",
       "    </tr>\n",
       "    <tr>\n",
       "      <th>5534</th>\n",
       "      <td>2021-12-30</td>\n",
       "      <td>179.470001</td>\n",
       "      <td>180.570007</td>\n",
       "      <td>178.089996</td>\n",
       "      <td>178.199997</td>\n",
       "      <td>176.419067</td>\n",
       "      <td>59773000</td>\n",
       "    </tr>\n",
       "    <tr>\n",
       "      <th>5535</th>\n",
       "      <td>2021-12-31</td>\n",
       "      <td>178.089996</td>\n",
       "      <td>179.229996</td>\n",
       "      <td>177.259995</td>\n",
       "      <td>177.570007</td>\n",
       "      <td>175.795364</td>\n",
       "      <td>64062300</td>\n",
       "    </tr>\n",
       "  </tbody>\n",
       "</table>\n",
       "</div>"
      ],
      "text/plain": [
       "            Date        Open        High         Low       Close   Adj Close  \\\n",
       "5531  2021-12-27  177.089996  180.419998  177.070007  180.330002  178.527756   \n",
       "5532  2021-12-28  180.160004  181.330002  178.529999  179.289993  177.498138   \n",
       "5533  2021-12-29  179.330002  180.630005  178.139999  179.380005  177.587250   \n",
       "5534  2021-12-30  179.470001  180.570007  178.089996  178.199997  176.419067   \n",
       "5535  2021-12-31  178.089996  179.229996  177.259995  177.570007  175.795364   \n",
       "\n",
       "        Volume  \n",
       "5531  74919600  \n",
       "5532  79144300  \n",
       "5533  62348900  \n",
       "5534  59773000  \n",
       "5535  64062300  "
      ]
     },
     "execution_count": 11,
     "metadata": {},
     "output_type": "execute_result"
    }
   ],
   "source": [
    "df.tail()"
   ]
  },
  {
   "cell_type": "code",
   "execution_count": 12,
   "id": "7616d61c",
   "metadata": {},
   "outputs": [
    {
     "data": {
      "text/html": [
       "<div>\n",
       "<style scoped>\n",
       "    .dataframe tbody tr th:only-of-type {\n",
       "        vertical-align: middle;\n",
       "    }\n",
       "\n",
       "    .dataframe tbody tr th {\n",
       "        vertical-align: top;\n",
       "    }\n",
       "\n",
       "    .dataframe thead th {\n",
       "        text-align: right;\n",
       "    }\n",
       "</style>\n",
       "<table border=\"1\" class=\"dataframe\">\n",
       "  <thead>\n",
       "    <tr style=\"text-align: right;\">\n",
       "      <th></th>\n",
       "      <th>index</th>\n",
       "      <th>Date</th>\n",
       "      <th>Open</th>\n",
       "      <th>High</th>\n",
       "      <th>Low</th>\n",
       "      <th>Close</th>\n",
       "      <th>Adj Close</th>\n",
       "      <th>Volume</th>\n",
       "    </tr>\n",
       "  </thead>\n",
       "  <tbody>\n",
       "    <tr>\n",
       "      <th>0</th>\n",
       "      <td>0</td>\n",
       "      <td>2000-01-03</td>\n",
       "      <td>0.936384</td>\n",
       "      <td>1.004464</td>\n",
       "      <td>0.907924</td>\n",
       "      <td>0.999442</td>\n",
       "      <td>0.848323</td>\n",
       "      <td>535796800</td>\n",
       "    </tr>\n",
       "    <tr>\n",
       "      <th>1</th>\n",
       "      <td>1</td>\n",
       "      <td>2000-01-04</td>\n",
       "      <td>0.966518</td>\n",
       "      <td>0.987723</td>\n",
       "      <td>0.903460</td>\n",
       "      <td>0.915179</td>\n",
       "      <td>0.776801</td>\n",
       "      <td>512377600</td>\n",
       "    </tr>\n",
       "    <tr>\n",
       "      <th>2</th>\n",
       "      <td>2</td>\n",
       "      <td>2000-01-05</td>\n",
       "      <td>0.926339</td>\n",
       "      <td>0.987165</td>\n",
       "      <td>0.919643</td>\n",
       "      <td>0.928571</td>\n",
       "      <td>0.788168</td>\n",
       "      <td>778321600</td>\n",
       "    </tr>\n",
       "    <tr>\n",
       "      <th>3</th>\n",
       "      <td>3</td>\n",
       "      <td>2000-01-06</td>\n",
       "      <td>0.947545</td>\n",
       "      <td>0.955357</td>\n",
       "      <td>0.848214</td>\n",
       "      <td>0.848214</td>\n",
       "      <td>0.719961</td>\n",
       "      <td>767972800</td>\n",
       "    </tr>\n",
       "    <tr>\n",
       "      <th>4</th>\n",
       "      <td>4</td>\n",
       "      <td>2000-01-07</td>\n",
       "      <td>0.861607</td>\n",
       "      <td>0.901786</td>\n",
       "      <td>0.852679</td>\n",
       "      <td>0.888393</td>\n",
       "      <td>0.754065</td>\n",
       "      <td>460734400</td>\n",
       "    </tr>\n",
       "  </tbody>\n",
       "</table>\n",
       "</div>"
      ],
      "text/plain": [
       "   index        Date      Open      High       Low     Close  Adj Close  \\\n",
       "0      0  2000-01-03  0.936384  1.004464  0.907924  0.999442   0.848323   \n",
       "1      1  2000-01-04  0.966518  0.987723  0.903460  0.915179   0.776801   \n",
       "2      2  2000-01-05  0.926339  0.987165  0.919643  0.928571   0.788168   \n",
       "3      3  2000-01-06  0.947545  0.955357  0.848214  0.848214   0.719961   \n",
       "4      4  2000-01-07  0.861607  0.901786  0.852679  0.888393   0.754065   \n",
       "\n",
       "      Volume  \n",
       "0  535796800  \n",
       "1  512377600  \n",
       "2  778321600  \n",
       "3  767972800  \n",
       "4  460734400  "
      ]
     },
     "execution_count": 12,
     "metadata": {},
     "output_type": "execute_result"
    }
   ],
   "source": [
    "df = df.reset_index()\n",
    "df.head()"
   ]
  },
  {
   "cell_type": "code",
   "execution_count": 13,
   "id": "995b77c9",
   "metadata": {},
   "outputs": [],
   "source": [
    "df = df.drop(['index', 'Date', 'Adj Close'], axis=1)\n"
   ]
  },
  {
   "cell_type": "code",
   "execution_count": 14,
   "id": "d5e1fc4d",
   "metadata": {},
   "outputs": [
    {
     "data": {
      "text/html": [
       "<div>\n",
       "<style scoped>\n",
       "    .dataframe tbody tr th:only-of-type {\n",
       "        vertical-align: middle;\n",
       "    }\n",
       "\n",
       "    .dataframe tbody tr th {\n",
       "        vertical-align: top;\n",
       "    }\n",
       "\n",
       "    .dataframe thead th {\n",
       "        text-align: right;\n",
       "    }\n",
       "</style>\n",
       "<table border=\"1\" class=\"dataframe\">\n",
       "  <thead>\n",
       "    <tr style=\"text-align: right;\">\n",
       "      <th></th>\n",
       "      <th>Open</th>\n",
       "      <th>High</th>\n",
       "      <th>Low</th>\n",
       "      <th>Close</th>\n",
       "      <th>Volume</th>\n",
       "    </tr>\n",
       "  </thead>\n",
       "  <tbody>\n",
       "    <tr>\n",
       "      <th>0</th>\n",
       "      <td>0.936384</td>\n",
       "      <td>1.004464</td>\n",
       "      <td>0.907924</td>\n",
       "      <td>0.999442</td>\n",
       "      <td>535796800</td>\n",
       "    </tr>\n",
       "    <tr>\n",
       "      <th>1</th>\n",
       "      <td>0.966518</td>\n",
       "      <td>0.987723</td>\n",
       "      <td>0.903460</td>\n",
       "      <td>0.915179</td>\n",
       "      <td>512377600</td>\n",
       "    </tr>\n",
       "    <tr>\n",
       "      <th>2</th>\n",
       "      <td>0.926339</td>\n",
       "      <td>0.987165</td>\n",
       "      <td>0.919643</td>\n",
       "      <td>0.928571</td>\n",
       "      <td>778321600</td>\n",
       "    </tr>\n",
       "    <tr>\n",
       "      <th>3</th>\n",
       "      <td>0.947545</td>\n",
       "      <td>0.955357</td>\n",
       "      <td>0.848214</td>\n",
       "      <td>0.848214</td>\n",
       "      <td>767972800</td>\n",
       "    </tr>\n",
       "    <tr>\n",
       "      <th>4</th>\n",
       "      <td>0.861607</td>\n",
       "      <td>0.901786</td>\n",
       "      <td>0.852679</td>\n",
       "      <td>0.888393</td>\n",
       "      <td>460734400</td>\n",
       "    </tr>\n",
       "  </tbody>\n",
       "</table>\n",
       "</div>"
      ],
      "text/plain": [
       "       Open      High       Low     Close     Volume\n",
       "0  0.936384  1.004464  0.907924  0.999442  535796800\n",
       "1  0.966518  0.987723  0.903460  0.915179  512377600\n",
       "2  0.926339  0.987165  0.919643  0.928571  778321600\n",
       "3  0.947545  0.955357  0.848214  0.848214  767972800\n",
       "4  0.861607  0.901786  0.852679  0.888393  460734400"
      ]
     },
     "execution_count": 14,
     "metadata": {},
     "output_type": "execute_result"
    }
   ],
   "source": [
    "df.head()"
   ]
  },
  {
   "cell_type": "code",
   "execution_count": 15,
   "id": "78a38ef7",
   "metadata": {},
   "outputs": [
    {
     "data": {
      "image/png": "[encoded data removed]",
      "text/plain": [
       "<Figure size 720x432 with 1 Axes>"
      ]
     },
     "metadata": {
      "needs_background": "light"
     },
     "output_type": "display_data"
    }
   ],
   "source": [
    "\n",
    "# Create a larger figure\n",
    "plt.figure(figsize=(10, 6))  # Specify the width and height in inches\n",
    "\n",
    "# Plot the 'Close' data from your DataFrame\n",
    "plt.plot(df.Close)\n",
    "\n",
    "# Add labels and title if needed\n",
    "plt.xlabel('Date')\n",
    "plt.ylabel('Close Price')\n",
    "plt.title('AAPL Closing Prices')\n",
    "\n",
    "# Show the plot\n",
    "plt.show()\n"
   ]
  },
  {
   "cell_type": "markdown",
   "id": "f3c5158b",
   "metadata": {},
   "source": [
    "Creating moving average"
   ]
  },
  {
   "cell_type": "code",
   "execution_count": 16,
   "id": "b32bbf20",
   "metadata": {},
   "outputs": [
    {
     "data": {
      "text/plain": [
       "0            NaN\n",
       "1            NaN\n",
       "2            NaN\n",
       "3            NaN\n",
       "4            NaN\n",
       "          ...   \n",
       "5531    153.3444\n",
       "5532    153.6667\n",
       "5533    153.9991\n",
       "5534    154.3202\n",
       "5535    154.6399\n",
       "Name: Close, Length: 5536, dtype: float64"
      ]
     },
     "execution_count": 16,
     "metadata": {},
     "output_type": "execute_result"
    }
   ],
   "source": [
    "ma100 = df.Close.rolling(100).mean()\n",
    "ma100"
   ]
  },
  {
   "cell_type": "code",
   "execution_count": 17,
   "id": "6fad1ede",
   "metadata": {},
   "outputs": [
    {
     "data": {
      "text/plain": [
       "[<matplotlib.lines.Line2D at 0x27dbab6dbe0>]"
      ]
     },
     "execution_count": 17,
     "metadata": {},
     "output_type": "execute_result"
    },
    {
     "data": {
      "image/png": "[encoded data removed]",
      "text/plain": [
       "<Figure size 720x432 with 1 Axes>"
      ]
     },
     "metadata": {
      "needs_background": "light"
     },
     "output_type": "display_data"
    }
   ],
   "source": [
    "plt.figure(figsize = (10, 6))\n",
    "plt.plot(df.Close)\n",
    "plt.plot(ma100, 'r')"
   ]
  },
  {
   "cell_type": "code",
   "execution_count": 18,
   "id": "76aefa18",
   "metadata": {},
   "outputs": [
    {
     "data": {
      "text/plain": [
       "0             NaN\n",
       "1             NaN\n",
       "2             NaN\n",
       "3             NaN\n",
       "4             NaN\n",
       "          ...    \n",
       "5531    142.85570\n",
       "5532    143.13220\n",
       "5533    143.40125\n",
       "5534    143.66845\n",
       "5535    143.95365\n",
       "Name: Close, Length: 5536, dtype: float64"
      ]
     },
     "execution_count": 18,
     "metadata": {},
     "output_type": "execute_result"
    }
   ],
   "source": [
    "ma200 = df.Close.rolling(200).mean()\n",
    "ma200"
   ]
  },
  {
   "cell_type": "code",
   "execution_count": 19,
   "id": "fb4aee6b",
   "metadata": {},
   "outputs": [
    {
     "data": {
      "text/plain": [
       "[<matplotlib.lines.Line2D at 0x27dbabea910>]"
      ]
     },
     "execution_count": 19,
     "metadata": {},
     "output_type": "execute_result"
    },
    {
     "data": {
      "image/png": "[encoded data removed]",
      "text/plain": [
       "<Figure size 1080x432 with 1 Axes>"
      ]
     },
     "metadata": {
      "needs_background": "light"
     },
     "output_type": "display_data"
    }
   ],
   "source": [
    "plt.figure(figsize = (15, 6))\n",
    "plt.plot(df.Close)\n",
    "plt.plot(ma100, 'r')\n",
    "plt.plot(ma200, 'g')\n"
   ]
  },
  {
   "cell_type": "code",
   "execution_count": 20,
   "id": "c80bfd39",
   "metadata": {},
   "outputs": [
    {
     "data": {
      "text/plain": [
       "(5536, 5)"
      ]
     },
     "execution_count": 20,
     "metadata": {},
     "output_type": "execute_result"
    }
   ],
   "source": [
    "df.shape"
   ]
  },
  {
   "cell_type": "markdown",
   "id": "ee60b983",
   "metadata": {},
   "source": [
    "Trainig and testing split"
   ]
  },
  {
   "cell_type": "code",
   "execution_count": 21,
   "id": "0303e091",
   "metadata": {},
   "outputs": [
    {
     "name": "stdout",
     "output_type": "stream",
     "text": [
      "(3875, 1)\n",
      "(1661, 1)\n"
     ]
    }
   ],
   "source": [
    "data_training = pd.DataFrame(df['Close'][0:int(len(df)*0.70)])\n",
    "data_testing = pd.DataFrame(df['Close'][int(len(df)*0.70):int(len(df))])\n",
    "\n",
    "print(data_training.shape)\n",
    "print(data_testing.shape)"
   ]
  },
  {
   "cell_type": "code",
   "execution_count": 22,
   "id": "e06273c1",
   "metadata": {},
   "outputs": [],
   "source": [
    "from sklearn.preprocessing import MinMaxScaler\n",
    "scaler = MinMaxScaler(feature_range=(0,1))"
   ]
  },
  {
   "cell_type": "code",
   "execution_count": 23,
   "id": "17f50967",
   "metadata": {},
   "outputs": [
    {
     "data": {
      "text/plain": [
       "array([[0.02317551],\n",
       "       [0.0206233 ],\n",
       "       [0.02102893],\n",
       "       ...,\n",
       "       [0.99273067],\n",
       "       [0.99076197],\n",
       "       [0.97940375]])"
      ]
     },
     "execution_count": 23,
     "metadata": {},
     "output_type": "execute_result"
    }
   ],
   "source": [
    "data_training_array = scaler.fit_transform(data_training)\n",
    "data_training_array"
   ]
  },
  {
   "cell_type": "code",
   "execution_count": 24,
   "id": "156c13f3",
   "metadata": {},
   "outputs": [],
   "source": [
    "X_train = []\n",
    "y_train = []\n",
    "\n",
    "for i in range(100, data_training_array.shape[0]):\n",
    "    X_train.append(data_training_array[i-100: i])\n",
    "    y_train.append(data_training_array[i, 0])\n",
    "    \n",
    "X_train, y_train = np.array(X_train), np.array(y_train)\n",
    "    "
   ]
  },
  {
   "cell_type": "code",
   "execution_count": 26,
   "id": "21d2b2d9",
   "metadata": {},
   "outputs": [
    {
     "data": {
      "text/plain": [
       "(3775, 100, 1)"
      ]
     },
     "execution_count": 26,
     "metadata": {},
     "output_type": "execute_result"
    }
   ],
   "source": [
    "X_train.shape"
   ]
  },
  {
   "cell_type": "code",
   "execution_count": 25,
   "id": "3782f2a5",
   "metadata": {},
   "outputs": [],
   "source": [
    "from keras.layers import Dense, Dropout, LSTM\n",
    "from keras.models import Sequential"
   ]
  },
  {
   "cell_type": "code",
   "execution_count": 27,
   "id": "b43b1fbf",
   "metadata": {},
   "outputs": [
    {
     "name": "stdout",
     "output_type": "stream",
     "text": [
      "WARNING:tensorflow:Layer lstm will not use cuDNN kernels since it doesn't meet the criteria. It will use a generic GPU kernel as fallback when running on GPU.\n",
      "WARNING:tensorflow:Layer lstm_1 will not use cuDNN kernels since it doesn't meet the criteria. It will use a generic GPU kernel as fallback when running on GPU.\n",
      "WARNING:tensorflow:Layer lstm_2 will not use cuDNN kernels since it doesn't meet the criteria. It will use a generic GPU kernel as fallback when running on GPU.\n",
      "WARNING:tensorflow:Layer lstm_3 will not use cuDNN kernels since it doesn't meet the criteria. It will use a generic GPU kernel as fallback when running on GPU.\n"
     ]
    }
   ],
   "source": [
    "model = Sequential()\n",
    "model.add(LSTM(units = 50, activation = 'relu', return_sequences = True, input_shape = (X_train.shape[1], 1)))\n",
    "model.add(Dropout(0.2))\n",
    "\n",
    "model.add(LSTM(units = 60, activation = 'relu', return_sequences = True))\n",
    "model.add(Dropout(0.3))\n",
    "\n",
    "model.add(LSTM(units = 80, activation = 'relu', return_sequences = True))\n",
    "model.add(Dropout(0.4))\n",
    "\n",
    "\n",
    "model.add(LSTM(units = 120, activation = 'relu'))\n",
    "model.add(Dropout(0.5))\n",
    "\n",
    "model.add(Dense(units = 1))"
   ]
  },
  {
   "cell_type": "code",
   "execution_count": 28,
   "id": "25d86526",
   "metadata": {},
   "outputs": [
    {
     "name": "stdout",
     "output_type": "stream",
     "text": [
      "Model: \"sequential\"\n",
      "_________________________________________________________________\n",
      "Layer (type)                 Output Shape              Param #   \n",
      "=================================================================\n",
      "lstm (LSTM)                  (None, 100, 50)           10400     \n",
      "_________________________________________________________________\n",
      "dropout (Dropout)            (None, 100, 50)           0         \n",
      "_________________________________________________________________\n",
      "lstm_1 (LSTM)                (None, 100, 60)           26640     \n",
      "_________________________________________________________________\n",
      "dropout_1 (Dropout)          (None, 100, 60)           0         \n",
      "_________________________________________________________________\n",
      "lstm_2 (LSTM)                (None, 100, 80)           45120     \n",
      "_________________________________________________________________\n",
      "dropout_2 (Dropout)          (None, 100, 80)           0         \n",
      "_________________________________________________________________\n",
      "lstm_3 (LSTM)                (None, 120)               96480     \n",
      "_________________________________________________________________\n",
      "dropout_3 (Dropout)          (None, 120)               0         \n",
      "_________________________________________________________________\n",
      "dense (Dense)                (None, 1)                 121       \n",
      "=================================================================\n",
      "Total params: 178,761\n",
      "Trainable params: 178,761\n",
      "Non-trainable params: 0\n",
      "_________________________________________________________________\n"
     ]
    }
   ],
   "source": [
    "model.summary()"
   ]
  },
  {
   "cell_type": "code",
   "execution_count": 29,
   "id": "bc410929",
   "metadata": {},
   "outputs": [
    {
     "name": "stdout",
     "output_type": "stream",
     "text": [
      "Epoch 1/100\n",
      "118/118 [==============================] - 75s 576ms/step - loss: 0.0163\n",
      "Epoch 2/100\n",
      "118/118 [==============================] - 69s 581ms/step - loss: 0.0040\n",
      "Epoch 3/100\n",
      "118/118 [==============================] - 69s 582ms/step - loss: 0.0035\n",
      "Epoch 4/100\n",
      "118/118 [==============================] - 70s 588ms/step - loss: 0.0032\n",
      "Epoch 5/100\n",
      "118/118 [==============================] - 68s 578ms/step - loss: 0.0034\n",
      "Epoch 6/100\n",
      "118/118 [==============================] - 76s 642ms/step - loss: 0.0031\n",
      "Epoch 7/100\n",
      "118/118 [==============================] - 80s 676ms/step - loss: 0.0029\n",
      "Epoch 8/100\n",
      "118/118 [==============================] - 70s 591ms/step - loss: 0.0031\n",
      "Epoch 9/100\n",
      "118/118 [==============================] - 69s 580ms/step - loss: 0.0029\n",
      "Epoch 10/100\n",
      "118/118 [==============================] - 68s 579ms/step - loss: 0.0026\n",
      "Epoch 11/100\n",
      "118/118 [==============================] - 75s 635ms/step - loss: 0.0031\n",
      "Epoch 12/100\n",
      "118/118 [==============================] - 71s 599ms/step - loss: 0.0026\n",
      "Epoch 13/100\n",
      "118/118 [==============================] - 69s 588ms/step - loss: 0.0026\n",
      "Epoch 14/100\n",
      "118/118 [==============================] - 69s 585ms/step - loss: 0.0025\n",
      "Epoch 15/100\n",
      "118/118 [==============================] - 69s 583ms/step - loss: 0.0022\n",
      "Epoch 16/100\n",
      "118/118 [==============================] - 150s 1s/step - loss: 0.0024\n",
      "Epoch 17/100\n",
      "118/118 [==============================] - 122s 1s/step - loss: 0.0025\n",
      "Epoch 18/100\n",
      "118/118 [==============================] - 240s 2s/step - loss: 0.0026\n",
      "Epoch 19/100\n",
      "118/118 [==============================] - 154s 1s/step - loss: 0.0024\n",
      "Epoch 20/100\n",
      "118/118 [==============================] - 183s 2s/step - loss: 0.0025\n",
      "Epoch 21/100\n",
      "118/118 [==============================] - 182s 2s/step - loss: 0.0024\n",
      "Epoch 22/100\n",
      "118/118 [==============================] - 179s 2s/step - loss: 0.0023\n",
      "Epoch 23/100\n",
      "118/118 [==============================] - 178s 2s/step - loss: 0.0021\n",
      "Epoch 24/100\n",
      "118/118 [==============================] - 179s 2s/step - loss: 0.0023\n",
      "Epoch 25/100\n",
      "118/118 [==============================] - 192s 2s/step - loss: 0.0022\n",
      "Epoch 26/100\n",
      "118/118 [==============================] - 191s 2s/step - loss: 0.0021\n",
      "Epoch 27/100\n",
      "118/118 [==============================] - 189s 2s/step - loss: 0.0020\n",
      "Epoch 28/100\n",
      "118/118 [==============================] - 190s 2s/step - loss: 0.0020\n",
      "Epoch 29/100\n",
      "118/118 [==============================] - 190s 2s/step - loss: 0.0022\n",
      "Epoch 30/100\n",
      "118/118 [==============================] - 185s 2s/step - loss: 0.0021\n",
      "Epoch 31/100\n",
      "118/118 [==============================] - 187s 2s/step - loss: 0.0021\n",
      "Epoch 32/100\n",
      "118/118 [==============================] - 143s 1s/step - loss: 0.0022\n",
      "Epoch 33/100\n",
      "118/118 [==============================] - 83s 701ms/step - loss: 0.0021\n",
      "Epoch 34/100\n",
      "118/118 [==============================] - 80s 678ms/step - loss: 0.0021\n",
      "Epoch 35/100\n",
      "118/118 [==============================] - 80s 678ms/step - loss: 0.0021\n",
      "Epoch 36/100\n",
      "118/118 [==============================] - 81s 689ms/step - loss: 0.0021\n",
      "Epoch 37/100\n",
      "118/118 [==============================] - 81s 684ms/step - loss: 0.0021\n",
      "Epoch 38/100\n",
      "118/118 [==============================] - 74s 630ms/step - loss: 0.0020\n",
      "Epoch 39/100\n",
      "118/118 [==============================] - 69s 586ms/step - loss: 0.0020\n",
      "Epoch 40/100\n",
      "118/118 [==============================] - 69s 583ms/step - loss: 0.0020\n",
      "Epoch 41/100\n",
      "118/118 [==============================] - 69s 583ms/step - loss: 0.0020\n",
      "Epoch 42/100\n",
      "118/118 [==============================] - 69s 580ms/step - loss: 0.0021\n",
      "Epoch 43/100\n",
      "118/118 [==============================] - 68s 577ms/step - loss: 0.0019\n",
      "Epoch 44/100\n",
      "118/118 [==============================] - 69s 583ms/step - loss: 0.0020\n",
      "Epoch 45/100\n",
      "118/118 [==============================] - 70s 594ms/step - loss: 0.0021\n",
      "Epoch 46/100\n",
      "118/118 [==============================] - 68s 580ms/step - loss: 0.0019\n",
      "Epoch 47/100\n",
      "118/118 [==============================] - 69s 583ms/step - loss: 0.0021\n",
      "Epoch 48/100\n",
      "118/118 [==============================] - 69s 588ms/step - loss: 0.0018\n",
      "Epoch 49/100\n",
      "118/118 [==============================] - 69s 582ms/step - loss: 0.0020\n",
      "Epoch 50/100\n",
      "118/118 [==============================] - 68s 580ms/step - loss: 0.0018\n",
      "Epoch 51/100\n",
      "118/118 [==============================] - 69s 586ms/step - loss: 0.0020\n",
      "Epoch 52/100\n",
      "118/118 [==============================] - 69s 585ms/step - loss: 0.0019\n",
      "Epoch 53/100\n",
      "118/118 [==============================] - 69s 588ms/step - loss: 0.0019\n",
      "Epoch 54/100\n",
      "118/118 [==============================] - 69s 586ms/step - loss: 0.0019\n",
      "Epoch 55/100\n",
      "118/118 [==============================] - 69s 587ms/step - loss: 0.0023\n",
      "Epoch 56/100\n",
      "118/118 [==============================] - 68s 579ms/step - loss: 0.0018\n",
      "Epoch 57/100\n",
      "118/118 [==============================] - 69s 585ms/step - loss: 0.0021\n",
      "Epoch 58/100\n",
      "118/118 [==============================] - 68s 579ms/step - loss: 0.0019\n",
      "Epoch 59/100\n",
      "118/118 [==============================] - 69s 587ms/step - loss: 0.0019\n",
      "Epoch 60/100\n",
      "118/118 [==============================] - 69s 582ms/step - loss: 0.0020\n",
      "Epoch 61/100\n",
      "118/118 [==============================] - 70s 595ms/step - loss: 0.0020\n",
      "Epoch 62/100\n",
      "118/118 [==============================] - 70s 596ms/step - loss: 0.0017\n",
      "Epoch 63/100\n",
      "118/118 [==============================] - 68s 574ms/step - loss: 0.0019\n",
      "Epoch 64/100\n",
      "118/118 [==============================] - 68s 575ms/step - loss: 0.0019\n",
      "Epoch 65/100\n",
      "118/118 [==============================] - 68s 580ms/step - loss: 0.0019\n",
      "Epoch 66/100\n",
      "118/118 [==============================] - 69s 581ms/step - loss: 0.0019\n",
      "Epoch 67/100\n",
      "118/118 [==============================] - 68s 575ms/step - loss: 0.0018\n",
      "Epoch 68/100\n",
      "118/118 [==============================] - 69s 584ms/step - loss: 0.0019\n",
      "Epoch 69/100\n",
      "118/118 [==============================] - 69s 584ms/step - loss: 0.0019\n",
      "Epoch 70/100\n",
      "118/118 [==============================] - 69s 585ms/step - loss: 0.0018\n",
      "Epoch 71/100\n",
      "118/118 [==============================] - 70s 590ms/step - loss: 0.0019\n",
      "Epoch 72/100\n",
      "118/118 [==============================] - 69s 584ms/step - loss: 0.0020\n",
      "Epoch 73/100\n",
      "118/118 [==============================] - 68s 572ms/step - loss: 0.0017\n",
      "Epoch 74/100\n",
      "118/118 [==============================] - 68s 575ms/step - loss: 0.0018\n",
      "Epoch 75/100\n",
      "118/118 [==============================] - 68s 580ms/step - loss: 0.0018\n",
      "Epoch 76/100\n",
      "118/118 [==============================] - 68s 574ms/step - loss: 0.0019\n",
      "Epoch 77/100\n",
      "118/118 [==============================] - 134s 1s/step - loss: 0.0018\n",
      "Epoch 78/100\n",
      "118/118 [==============================] - 141s 1s/step - loss: 0.0018\n",
      "Epoch 79/100\n",
      "118/118 [==============================] - 139s 1s/step - loss: 0.0017\n",
      "Epoch 80/100\n",
      "118/118 [==============================] - 137s 1s/step - loss: 0.0018\n",
      "Epoch 81/100\n",
      "118/118 [==============================] - 133s 1s/step - loss: 0.0018\n",
      "Epoch 82/100\n",
      "118/118 [==============================] - 130s 1s/step - loss: 0.0019\n",
      "Epoch 83/100\n",
      "118/118 [==============================] - 132s 1s/step - loss: 0.0017\n",
      "Epoch 84/100\n",
      "118/118 [==============================] - 131s 1s/step - loss: 0.0018\n",
      "Epoch 85/100\n",
      "118/118 [==============================] - 121s 1s/step - loss: 0.0018\n",
      "Epoch 86/100\n",
      "118/118 [==============================] - 122s 1s/step - loss: 0.0017\n",
      "Epoch 87/100\n",
      "118/118 [==============================] - 127s 1s/step - loss: 0.0019\n",
      "Epoch 88/100\n",
      "118/118 [==============================] - 122s 1s/step - loss: 0.0018\n",
      "Epoch 89/100\n",
      "118/118 [==============================] - 120s 1s/step - loss: 0.0018\n",
      "Epoch 90/100\n",
      "118/118 [==============================] - 123s 1s/step - loss: 0.0018\n",
      "Epoch 91/100\n",
      "118/118 [==============================] - 124s 1s/step - loss: 0.0018\n",
      "Epoch 92/100\n",
      "118/118 [==============================] - 128s 1s/step - loss: 0.0018\n",
      "Epoch 93/100\n",
      "118/118 [==============================] - 132s 1s/step - loss: 0.0019\n",
      "Epoch 94/100\n",
      "118/118 [==============================] - 126s 1s/step - loss: 0.0017\n",
      "Epoch 95/100\n",
      "118/118 [==============================] - 120s 1s/step - loss: 0.0018\n",
      "Epoch 96/100\n",
      "118/118 [==============================] - 123s 1s/step - loss: 0.0018\n",
      "Epoch 97/100\n",
      "118/118 [==============================] - 123s 1s/step - loss: 0.0018\n",
      "Epoch 98/100\n",
      "118/118 [==============================] - 120s 1s/step - loss: 0.0017\n",
      "Epoch 99/100\n",
      "118/118 [==============================] - 119s 1s/step - loss: 0.0018\n",
      "Epoch 100/100\n",
      "118/118 [==============================] - 120s 1s/step - loss: 0.0018\n"
     ]
    },
    {
     "data": {
      "text/plain": [
       "<keras.callbacks.History at 0x27dbb9c65e0>"
      ]
     },
     "execution_count": 29,
     "metadata": {},
     "output_type": "execute_result"
    }
   ],
   "source": [
    "model.compile(optimizer = 'adam', loss='mean_squared_error')\n",
    "model.fit(X_train, y_train, epochs = 100)"
   ]
  },
  {
   "cell_type": "code",
   "execution_count": 30,
   "id": "59614c38",
   "metadata": {},
   "outputs": [],
   "source": [
    "model.save('keras_model.h5')"
   ]
  },
  {
   "cell_type": "code",
   "execution_count": 34,
   "id": "2cd5d666",
   "metadata": {},
   "outputs": [],
   "source": [
    "past_100_days = data_training.tail(100)"
   ]
  },
  {
   "cell_type": "code",
   "execution_count": 35,
   "id": "b3e6bf0e",
   "metadata": {},
   "outputs": [
    {
     "name": "stderr",
     "output_type": "stream",
     "text": [
      "C:\\Users\\Abhishek\\AppData\\Local\\Temp\\ipykernel_17084\\3299050086.py:1: FutureWarning: The frame.append method is deprecated and will be removed from pandas in a future version. Use pandas.concat instead.\n",
      "  final_df = past_100_days.append(data_testing, ignore_index = True)\n"
     ]
    }
   ],
   "source": [
    "final_df = past_100_days.append(data_testing, ignore_index = True)"
   ]
  },
  {
   "cell_type": "code",
   "execution_count": 36,
   "id": "5529cf7e",
   "metadata": {},
   "outputs": [
    {
     "data": {
      "text/html": [
       "<div>\n",
       "<style scoped>\n",
       "    .dataframe tbody tr th:only-of-type {\n",
       "        vertical-align: middle;\n",
       "    }\n",
       "\n",
       "    .dataframe tbody tr th {\n",
       "        vertical-align: top;\n",
       "    }\n",
       "\n",
       "    .dataframe thead th {\n",
       "        text-align: right;\n",
       "    }\n",
       "</style>\n",
       "<table border=\"1\" class=\"dataframe\">\n",
       "  <thead>\n",
       "    <tr style=\"text-align: right;\">\n",
       "      <th></th>\n",
       "      <th>Close</th>\n",
       "    </tr>\n",
       "  </thead>\n",
       "  <tbody>\n",
       "    <tr>\n",
       "      <th>0</th>\n",
       "      <td>26.565001</td>\n",
       "    </tr>\n",
       "    <tr>\n",
       "      <th>1</th>\n",
       "      <td>26.937500</td>\n",
       "    </tr>\n",
       "    <tr>\n",
       "      <th>2</th>\n",
       "      <td>27.972500</td>\n",
       "    </tr>\n",
       "    <tr>\n",
       "      <th>3</th>\n",
       "      <td>28.002501</td>\n",
       "    </tr>\n",
       "    <tr>\n",
       "      <th>4</th>\n",
       "      <td>27.312500</td>\n",
       "    </tr>\n",
       "  </tbody>\n",
       "</table>\n",
       "</div>"
      ],
      "text/plain": [
       "       Close\n",
       "0  26.565001\n",
       "1  26.937500\n",
       "2  27.972500\n",
       "3  28.002501\n",
       "4  27.312500"
      ]
     },
     "execution_count": 36,
     "metadata": {},
     "output_type": "execute_result"
    }
   ],
   "source": [
    "final_df.head()"
   ]
  },
  {
   "cell_type": "code",
   "execution_count": 37,
   "id": "33660ec4",
   "metadata": {},
   "outputs": [],
   "source": [
    "input_data = scaler.fit_transform(final_df)"
   ]
  },
  {
   "cell_type": "code",
   "execution_count": 40,
   "id": "1a7f4995",
   "metadata": {},
   "outputs": [
    {
     "data": {
      "text/plain": [
       "array([[0.02523061],\n",
       "       [0.02759201],\n",
       "       [0.03415323],\n",
       "       ...,\n",
       "       [0.99397764],\n",
       "       [0.98649716],\n",
       "       [0.98250344]])"
      ]
     },
     "execution_count": 40,
     "metadata": {},
     "output_type": "execute_result"
    }
   ],
   "source": [
    "input_data"
   ]
  },
  {
   "cell_type": "code",
   "execution_count": 41,
   "id": "39f39400",
   "metadata": {},
   "outputs": [
    {
     "data": {
      "text/plain": [
       "(1761, 1)"
      ]
     },
     "execution_count": 41,
     "metadata": {},
     "output_type": "execute_result"
    }
   ],
   "source": [
    "input_data.shape"
   ]
  },
  {
   "cell_type": "code",
   "execution_count": 42,
   "id": "a65450fd",
   "metadata": {},
   "outputs": [],
   "source": [
    "x_test = []\n",
    "y_test = []\n",
    "\n",
    "for i in range(100, input_data.shape[0]):\n",
    "    x_test.append(input_data[i-100: i])\n",
    "    y_test.append(input_data[i, 0])\n",
    "    "
   ]
  },
  {
   "cell_type": "code",
   "execution_count": 44,
   "id": "4910b947",
   "metadata": {},
   "outputs": [
    {
     "name": "stdout",
     "output_type": "stream",
     "text": [
      "(1661, 100, 1)\n",
      "(1661,)\n"
     ]
    }
   ],
   "source": [
    "x_test, y_test = np.array(x_test), np.array(y_test)\n",
    "print(x_test.shape)\n",
    "print(y_test.shape) "
   ]
  },
  {
   "cell_type": "markdown",
   "id": "d81bb4cc",
   "metadata": {},
   "source": [
    "Predictions"
   ]
  },
  {
   "cell_type": "code",
   "execution_count": 45,
   "id": "cdeb342c",
   "metadata": {},
   "outputs": [],
   "source": [
    "y_predicted = model.predict(x_test)"
   ]
  },
  {
   "cell_type": "code",
   "execution_count": 46,
   "id": "e9713579",
   "metadata": {},
   "outputs": [
    {
     "data": {
      "text/plain": [
       "array([[0.0872793 ],\n",
       "       [0.08747268],\n",
       "       [0.0876788 ],\n",
       "       ...,\n",
       "       [0.86651844],\n",
       "       [0.8731063 ],\n",
       "       [0.87768275]], dtype=float32)"
      ]
     },
     "execution_count": 46,
     "metadata": {},
     "output_type": "execute_result"
    }
   ],
   "source": [
    "y_predicted"
   ]
  },
  {
   "cell_type": "code",
   "execution_count": 47,
   "id": "386bf425",
   "metadata": {},
   "outputs": [
    {
     "data": {
      "text/plain": [
       "array([0.00633935])"
      ]
     },
     "execution_count": 47,
     "metadata": {},
     "output_type": "execute_result"
    }
   ],
   "source": [
    "scaler.scale_"
   ]
  },
  {
   "cell_type": "code",
   "execution_count": 48,
   "id": "e20753b8",
   "metadata": {},
   "outputs": [],
   "source": [
    "Scale_factor = 1/0.00633935\n",
    "y_predicted = y_predicted * Scale_factor\n",
    "y_test = y_test * Scale_factor"
   ]
  },
  {
   "cell_type": "code",
   "execution_count": 51,
   "id": "f1c53a12",
   "metadata": {},
   "outputs": [
    {
     "data": {
      "image/png": "[encoded data removed]",
      "text/plain": [
       "<Figure size 1080x576 with 1 Axes>"
      ]
     },
     "metadata": {
      "needs_background": "light"
     },
     "output_type": "display_data"
    }
   ],
   "source": [
    "plt.figure(figsize=(15,8))\n",
    "plt.plot(y_test, 'b', label = 'Original Price')\n",
    "plt.plot(y_predicted, 'r', label = 'Predicted Price')\n",
    "plt.xlabel('Time')\n",
    "plt.ylabel('Price')\n",
    "plt.legend()\n",
    "\n",
    "plt.show()"
   ]
  },
  {
   "cell_type": "code",
   "execution_count": null,
   "id": "60dd9382",
   "metadata": {},
   "outputs": [],
   "source": []
  },
  {
   "cell_type": "code",
   "execution_count": null,
   "id": "e254c671",
   "metadata": {},
   "outputs": [],
   "source": []
  },
  {
   "cell_type": "code",
   "execution_count": null,
   "id": "321879b3",
   "metadata": {},
   "outputs": [],
   "source": []
  },
  {
   "cell_type": "code",
   "execution_count": null,
   "id": "36a3b926",
   "metadata": {},
   "outputs": [],
   "source": []
  },
  {
   "cell_type": "code",
   "execution_count": null,
   "id": "fb2edd28",
   "metadata": {},
   "outputs": [],
   "source": []
  },
  {
   "cell_type": "code",
   "execution_count": null,
   "id": "02355332",
   "metadata": {},
   "outputs": [],
   "source": []
  },
  {
   "cell_type": "code",
   "execution_count": null,
   "id": "7af1ecb7",
   "metadata": {},
   "outputs": [],
   "source": []
  },
  {
   "cell_type": "code",
   "execution_count": null,
   "id": "e135261c",
   "metadata": {},
   "outputs": [],
   "source": []
  },
  {
   "cell_type": "code",
   "execution_count": null,
   "id": "5c992588",
   "metadata": {},
   "outputs": [],
   "source": []
  },
  {
   "cell_type": "code",
   "execution_count": null,
   "id": "27e756dc",
   "metadata": {},
   "outputs": [],
   "source": []
  }
 ],
 "metadata": {
  "kernelspec": {
   "display_name": "Python 3 (ipykernel)",
   "language": "python",
   "name": "python3"
  },
  "language_info": {
   "codemirror_mode": {
    "name": "ipython",
    "version": 3
   },
   "file_extension": ".py",
   "mimetype": "text/x-python",
   "name": "python",
   "nbconvert_exporter": "python",
   "pygments_lexer": "ipython3",
   "version": "3.9.7"
  }
 },
 "nbformat": 4,
 "nbformat_minor": 5
}
